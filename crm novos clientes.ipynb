{
 "cells": [
  {
   "cell_type": "code",
   "execution_count": 1,
   "metadata": {},
   "outputs": [
    {
     "name": "stderr",
     "output_type": "stream",
     "text": [
      "/home/gabriel/anaconda3/envs/.conda/lib/python3.10/site-packages/numba/core/decorators.py:262: NumbaDeprecationWarning: \u001b[1mnumba.generated_jit is deprecated. Please see the documentation at: https://numba.readthedocs.io/en/stable/reference/deprecation.html#deprecation-of-generated-jit for more information and advice on a suitable replacement.\u001b[0m\n",
      "  warnings.warn(msg, NumbaDeprecationWarning)\n",
      "/home/gabriel/.local/lib/python3.10/site-packages/visions/backends/shared/nan_handling.py:51: NumbaDeprecationWarning: \u001b[1mThe 'nopython' keyword argument was not supplied to the 'numba.jit' decorator. The implicit default value for this argument is currently False, but it will be changed to True in Numba 0.59.0. See https://numba.readthedocs.io/en/stable/reference/deprecation.html#deprecation-of-object-mode-fall-back-behaviour-when-using-jit for details.\u001b[0m\n",
      "  def hasna(x: np.ndarray) -> bool:\n"
     ]
    }
   ],
   "source": [
    "#@title Bibliotecas padrões\n",
    "import pandas as pd\n",
    "import pandas.io.sql as sqlio\n",
    "import sys\n",
    "import psycopg2\n",
    "from ydata_profiling import ProfileReport\n",
    "import numpy as np\n",
    "from botocore import UNSIGNED\n",
    "from botocore.config import Config\n",
    "from urllib.parse import quote_plus\n",
    "from pyathena import connect\n",
    "import boto3\n",
    "import boto3.session\n",
    "from botocore import exceptions\n",
    "import seaborn as sns\n",
    "import plotly.express as px\n",
    "import dask.dataframe as dd\n",
    "\n",
    "#Carregando as bibliotecas necessárias para a análise estatística\n",
    "import pandas as pd\n",
    "import numpy as np\n",
    "import seaborn as sns\n",
    "%matplotlib inline\n",
    "import matplotlib.pyplot as plt\n",
    "plt.rcParams['figure.figsize'] = (8, 8)\n",
    "import statsmodels.api as sm\n",
    "import statsmodels.tsa as tsa\n",
    "from statsmodels.tsa.stattools import adfuller\n",
    "from statsmodels.graphics.tsaplots import plot_acf, plot_pacf\n",
    "import pmdarima as pm\n",
    "from statsmodels.tsa.arima_model import ARIMA\n",
    "from statsmodels.tsa.seasonal import seasonal_decompose\n",
    "from statsmodels.tsa.arima_process import arma_generate_sample"
   ]
  },
  {
   "cell_type": "code",
   "execution_count": 2,
   "metadata": {},
   "outputs": [
    {
     "name": "stderr",
     "output_type": "stream",
     "text": [
      "/tmp/ipykernel_27933/2692619984.py:3: DtypeWarning: Columns (3) have mixed types. Specify dtype option on import or set low_memory=False.\n",
      "  dados_csv = pd.read_csv(caminho_arquivo_csv)\n"
     ]
    }
   ],
   "source": [
    "caminho_arquivo_csv = '/home/gabriel/dbt-projects/python_files/analises/files/meus-contatos.csv'\n",
    "\n",
    "dados_csv = pd.read_csv(caminho_arquivo_csv)\n",
    "\n",
    "dados_csv = dados_csv[dados_csv['CPF'].str.len() == 11]"
   ]
  },
  {
   "cell_type": "code",
   "execution_count": 3,
   "metadata": {},
   "outputs": [],
   "source": [
    "grouped_df = dados_csv.groupby('Record ID')\n",
    "dados_csv = grouped_df.first()"
   ]
  },
  {
   "cell_type": "code",
   "execution_count": 4,
   "metadata": {},
   "outputs": [],
   "source": [
    "dados_csv = dados_csv.reset_index()"
   ]
  },
  {
   "cell_type": "code",
   "execution_count": 5,
   "metadata": {},
   "outputs": [],
   "source": [
    "# Manter apenas as colunas 'Record ID' e 'CPF' e descartar as outras\n",
    "dados_csv = dados_csv[['Record ID', 'CPF']]"
   ]
  },
  {
   "cell_type": "code",
   "execution_count": 6,
   "metadata": {},
   "outputs": [],
   "source": [
    "teste = dados_csv[dados_csv['Record ID'] == 835795321]"
   ]
  },
  {
   "cell_type": "code",
   "execution_count": 7,
   "metadata": {},
   "outputs": [
    {
     "ename": "",
     "evalue": "",
     "output_type": "error",
     "traceback": [
      "\u001b[1;31mO Kernel falhou ao executar o código na célula atual ou em uma célula anterior. Examine o código nas células para identificar uma possível causa da falha. Clique <a href=\"https://aka.ms/vscodeJupyterKernelCrash\">aqui</a> para obter mais informações. Consulte o <a href='command:jupyter.viewOutput'>log</a> do Jupyter para obter mais detalhes."
     ]
    }
   ],
   "source": [
    "import dask.dataframe as dd\n",
    "\n",
    "dtype_specification = {'CPF': 'object', 'First name': 'object'}\n",
    "\n",
    "dados_csv = dd.read_csv('/home/gabriel/dbt-projects/python_files/analises/files/meus-contatos.csv', dtype=dtype_specification)\n",
    "\n",
    "dados_csv['CPF'] = dados_csv['CPF'].astype(str)\n",
    "\n",
    "# Converta a coluna 'Record ID' para tipo numérico\n",
    "dados_csv['Record ID'] = dados_csv['Record ID'].astype(int)\n",
    "\n",
    "# Encontre o máximo do 'Record ID' para cada grupo 'CPF'\n",
    "max_record_id = dados_csv.groupby('CPF')['Record ID'].max().reset_index()\n",
    "\n",
    "# Converta o Dask DataFrame em um pandas DataFrame, se necessário\n",
    "dados_csv = max_record_id.compute()"
   ]
  },
  {
   "cell_type": "code",
   "execution_count": null,
   "metadata": {},
   "outputs": [],
   "source": [
    "#verificar se de fato, está trazendo o máximo do Record ID\n",
    "validacao = dados_csv[dados_csv['CPF'] == '81945515520']"
   ]
  },
  {
   "cell_type": "code",
   "execution_count": null,
   "metadata": {},
   "outputs": [],
   "source": [
    "ddf2 = dd.read_csv('/home/gabriel/dbt-projects/python_files/analises/files/fl_consultas_crm_202401041558 (4).csv', dtype={'CPF': 'object'})\n",
    "ddf2['CPF'] = ddf2['CPF'].astype('str')\n",
    "ddf2 = ddf2.compute()"
   ]
  },
  {
   "cell_type": "code",
   "execution_count": null,
   "metadata": {},
   "outputs": [
    {
     "ename": "",
     "evalue": "",
     "output_type": "error",
     "traceback": [
      "\u001b[1;31mO Kernel falhou ao executar o código na célula atual ou em uma célula anterior. Examine o código nas células para identificar uma possível causa da falha. Clique <a href=\"https://aka.ms/vscodeJupyterKernelCrash\">aqui</a> para obter mais informações. Consulte o <a href='command:jupyter.viewOutput'>log</a> do Jupyter para obter mais detalhes."
     ]
    }
   ],
   "source": [
    "dados_csv = dados_csv.set_index('CPF')\n",
    "ddf2 = ddf2.set_index('CPF')\n",
    "ddf_merged = dd.merge(ddf2, dados_csv, left_index=True, right_index=True, how='inner')"
   ]
  },
  {
   "cell_type": "code",
   "execution_count": null,
   "metadata": {},
   "outputs": [
    {
     "ename": "",
     "evalue": "",
     "output_type": "error",
     "traceback": [
      "\u001b[1;31mO Kernel falhou ao executar o código na célula atual ou em uma célula anterior. Examine o código nas células para identificar uma possível causa da falha. Clique <a href=\"https://aka.ms/vscodeJupyterKernelCrash\">aqui</a> para obter mais informações. Consulte o <a href='command:jupyter.viewOutput'>log</a> do Jupyter para obter mais detalhes."
     ]
    }
   ],
   "source": [
    "# Salvar o resultado como CSV\n",
    "ddf_merged.to_csv('resultado.csv', single_file=True, index=False)"
   ]
  }
 ],
 "metadata": {
  "kernelspec": {
   "display_name": ".conda",
   "language": "python",
   "name": "python3"
  },
  "language_info": {
   "codemirror_mode": {
    "name": "ipython",
    "version": 3
   },
   "file_extension": ".py",
   "mimetype": "text/x-python",
   "name": "python",
   "nbconvert_exporter": "python",
   "pygments_lexer": "ipython3",
   "version": "3.1.0"
  },
  "orig_nbformat": 4
 },
 "nbformat": 4,
 "nbformat_minor": 2
}
