{
 "cells": [
  {
   "cell_type": "code",
   "execution_count": 3,
   "metadata": {},
   "outputs": [],
   "source": [
    "#@title Bibliotecas padrões\n",
    "import pandas as pd\n",
    "import pandas.io.sql as sqlio\n",
    "import sys\n",
    "import psycopg2\n",
    "from ydata_profiling import ProfileReport\n",
    "import numpy as np\n",
    "from botocore import UNSIGNED\n",
    "from botocore.config import Config\n",
    "from urllib.parse import quote_plus\n",
    "from pyathena import connect\n",
    "import boto3\n",
    "import boto3.session\n",
    "from botocore import exceptions\n",
    "import seaborn as sns\n",
    "import plotly.express as px\n",
    "\n",
    "#Carregando as bibliotecas necessárias para a análise estatística\n",
    "import pandas as pd\n",
    "import numpy as np\n",
    "import seaborn as sns\n",
    "%matplotlib inline\n",
    "import matplotlib.pyplot as plt\n",
    "plt.rcParams['figure.figsize'] = (8, 8)\n",
    "import statsmodels.api as sm\n",
    "import statsmodels.tsa as tsa\n",
    "from statsmodels.tsa.stattools import adfuller\n",
    "from statsmodels.graphics.tsaplots import plot_acf, plot_pacf\n",
    "import pmdarima as pm\n",
    "from statsmodels.tsa.arima_model import ARIMA\n",
    "from statsmodels.tsa.seasonal import seasonal_decompose\n",
    "from statsmodels.tsa.arima_process import arma_generate_sample"
   ]
  },
  {
   "cell_type": "code",
   "execution_count": 4,
   "metadata": {},
   "outputs": [],
   "source": [
    "#ponte de conexão com o redshift\n",
    "connection = psycopg2.connect(dbname=\"dw_amorsaude\",\n",
    "                  user=\"\",\n",
    "                  password=\"\",\n",
    "                  host =\"redshift.amazonaws.com\",\n",
    "                  port = 5439)"
   ]
  },
  {
   "cell_type": "code",
   "execution_count": 5,
   "metadata": {},
   "outputs": [],
   "source": [
    "#query\n",
    "df_emails = '''select sp.id, sp.valor from stg_propostas sp'''"
   ]
  },
  {
   "cell_type": "code",
   "execution_count": 8,
   "metadata": {},
   "outputs": [
    {
     "name": "stderr",
     "output_type": "stream",
     "text": [
      "/tmp/ipykernel_5280/1688475736.py:1: UserWarning: pandas only supports SQLAlchemy connectable (engine/connection) or database string URI or sqlite3 DBAPI2 connection. Other DBAPI2 objects are not tested. Please consider using SQLAlchemy.\n",
      "  df_prontuarios = pd.read_sql_query(df_emails,con=connection)\n"
     ]
    }
   ],
   "source": [
    "df_prontuarios = pd.read_sql_query(df_emails,con=connection)\n"
   ]
  },
  {
   "cell_type": "code",
   "execution_count": 13,
   "metadata": {},
   "outputs": [],
   "source": [
    "# Carregando o arquivo Excel em um DataFrame\n",
    "df_crm = pd.read_excel('/home/gabriel/dbt-projects/python_files/analises/files/hubspot-core-report-negocios-murph-2023-09-04-1 - Copia.xlsx')\n",
    "df_crm.rename(columns={'ID Feegow': 'id'}, inplace=True)"
   ]
  },
  {
   "cell_type": "code",
   "execution_count": 20,
   "metadata": {},
   "outputs": [],
   "source": [
    " chunk_merge = pd.merge(df_crm, df_prontuarios, on='id', how='left')"
   ]
  },
  {
   "cell_type": "code",
   "execution_count": 21,
   "metadata": {},
   "outputs": [
    {
     "data": {
      "text/html": [
       "<div>\n",
       "<style scoped>\n",
       "    .dataframe tbody tr th:only-of-type {\n",
       "        vertical-align: middle;\n",
       "    }\n",
       "\n",
       "    .dataframe tbody tr th {\n",
       "        vertical-align: top;\n",
       "    }\n",
       "\n",
       "    .dataframe thead th {\n",
       "        text-align: right;\n",
       "    }\n",
       "</style>\n",
       "<table border=\"1\" class=\"dataframe\">\n",
       "  <thead>\n",
       "    <tr style=\"text-align: right;\">\n",
       "      <th></th>\n",
       "      <th>Record ID</th>\n",
       "      <th>Nome do negócio</th>\n",
       "      <th>Tabela</th>\n",
       "      <th>Valor na moeda da empresa</th>\n",
       "      <th>Unnamed: 4</th>\n",
       "      <th>Etapa do negócio</th>\n",
       "      <th>Tabulação</th>\n",
       "      <th>Proprietário do negócio</th>\n",
       "      <th>nivel de probabilidade</th>\n",
       "      <th>TIER</th>\n",
       "      <th>id</th>\n",
       "      <th>valor</th>\n",
       "    </tr>\n",
       "  </thead>\n",
       "  <tbody>\n",
       "    <tr>\n",
       "      <th>0</th>\n",
       "      <td>14963003168</td>\n",
       "      <td>Pós-consulta | Claudia Barbosa Borges Cordeiro</td>\n",
       "      <td>Cartão de TODOS</td>\n",
       "      <td>265</td>\n",
       "      <td>NaN</td>\n",
       "      <td>Executada</td>\n",
       "      <td>Executada</td>\n",
       "      <td>Unidade de Grajaú</td>\n",
       "      <td>0.395347</td>\n",
       "      <td>30 a 40</td>\n",
       "      <td>15918883.0</td>\n",
       "      <td>26.5</td>\n",
       "    </tr>\n",
       "    <tr>\n",
       "      <th>1</th>\n",
       "      <td>14961998999</td>\n",
       "      <td>Pós-consulta | Paola Coelho Santos</td>\n",
       "      <td>Cartão de TODOS</td>\n",
       "      <td>75</td>\n",
       "      <td>NaN</td>\n",
       "      <td>Executada</td>\n",
       "      <td>Executada</td>\n",
       "      <td>campinascentro.sp@amorsaude.com</td>\n",
       "      <td>0.365344</td>\n",
       "      <td>30 a 40</td>\n",
       "      <td>15927321.0</td>\n",
       "      <td>75.0</td>\n",
       "    </tr>\n",
       "    <tr>\n",
       "      <th>2</th>\n",
       "      <td>14961998998</td>\n",
       "      <td>Pós-consulta | Paola Coelho Santos</td>\n",
       "      <td>Cartão de TODOS</td>\n",
       "      <td>150</td>\n",
       "      <td>NaN</td>\n",
       "      <td>Executada</td>\n",
       "      <td>Executada</td>\n",
       "      <td>campinascentro.sp@amorsaude.com</td>\n",
       "      <td>0.494073</td>\n",
       "      <td>40 a 50</td>\n",
       "      <td>15927385.0</td>\n",
       "      <td>150.0</td>\n",
       "    </tr>\n",
       "    <tr>\n",
       "      <th>3</th>\n",
       "      <td>14958935049</td>\n",
       "      <td>Pós-consulta | Erika Maria De Souza Reis</td>\n",
       "      <td>Cartão de TODOS</td>\n",
       "      <td>420</td>\n",
       "      <td>NaN</td>\n",
       "      <td>Executada</td>\n",
       "      <td>Executada</td>\n",
       "      <td>Unidade de Grajaú</td>\n",
       "      <td>0.657737</td>\n",
       "      <td>60 a 70</td>\n",
       "      <td>15923462.0</td>\n",
       "      <td>420.0</td>\n",
       "    </tr>\n",
       "    <tr>\n",
       "      <th>4</th>\n",
       "      <td>14958805676</td>\n",
       "      <td>Pós-consulta | Helena Calado Da Silva Dias</td>\n",
       "      <td>Cartão de TODOS</td>\n",
       "      <td>95</td>\n",
       "      <td>NaN</td>\n",
       "      <td>Executada</td>\n",
       "      <td>Executada</td>\n",
       "      <td>Unidade de Grajaú</td>\n",
       "      <td>0.941062</td>\n",
       "      <td>90 a 100</td>\n",
       "      <td>15921963.0</td>\n",
       "      <td>9.5</td>\n",
       "    </tr>\n",
       "  </tbody>\n",
       "</table>\n",
       "</div>"
      ],
      "text/plain": [
       "     Record ID                                 Nome do negócio  \\\n",
       "0  14963003168  Pós-consulta | Claudia Barbosa Borges Cordeiro   \n",
       "1  14961998999              Pós-consulta | Paola Coelho Santos   \n",
       "2  14961998998              Pós-consulta | Paola Coelho Santos   \n",
       "3  14958935049        Pós-consulta | Erika Maria De Souza Reis   \n",
       "4  14958805676      Pós-consulta | Helena Calado Da Silva Dias   \n",
       "\n",
       "            Tabela  Valor na moeda da empresa  Unnamed: 4 Etapa do negócio  \\\n",
       "0  Cartão de TODOS                        265         NaN        Executada   \n",
       "1  Cartão de TODOS                         75         NaN        Executada   \n",
       "2  Cartão de TODOS                        150         NaN        Executada   \n",
       "3  Cartão de TODOS                        420         NaN        Executada   \n",
       "4  Cartão de TODOS                         95         NaN        Executada   \n",
       "\n",
       "   Tabulação          Proprietário do negócio  nivel de probabilidade  \\\n",
       "0  Executada                Unidade de Grajaú                0.395347   \n",
       "1  Executada  campinascentro.sp@amorsaude.com                0.365344   \n",
       "2  Executada  campinascentro.sp@amorsaude.com                0.494073   \n",
       "3  Executada                Unidade de Grajaú                0.657737   \n",
       "4  Executada                Unidade de Grajaú                0.941062   \n",
       "\n",
       "       TIER          id  valor  \n",
       "0   30 a 40  15918883.0   26.5  \n",
       "1   30 a 40  15927321.0   75.0  \n",
       "2   40 a 50  15927385.0  150.0  \n",
       "3   60 a 70  15923462.0  420.0  \n",
       "4  90 a 100  15921963.0    9.5  "
      ]
     },
     "execution_count": 21,
     "metadata": {},
     "output_type": "execute_result"
    }
   ],
   "source": [
    "chunk_merge.head()"
   ]
  },
  {
   "cell_type": "code",
   "execution_count": 35,
   "metadata": {},
   "outputs": [],
   "source": [
    "from openpyxl import Workbook"
   ]
  },
  {
   "cell_type": "code",
   "execution_count": 23,
   "metadata": {},
   "outputs": [],
   "source": [
    "nome_do_arquivo = 'propostas_crm.xlsx'\n",
    "chunk_merge.to_excel(nome_do_arquivo, index=False)  # O argumento 'index=False' evita salvar o índice do DataFrame no Excel"
   ]
  }
 ],
 "metadata": {
  "kernelspec": {
   "display_name": ".conda",
   "language": "python",
   "name": "python3"
  },
  "language_info": {
   "codemirror_mode": {
    "name": "ipython",
    "version": 3
   },
   "file_extension": ".py",
   "mimetype": "text/x-python",
   "name": "python",
   "nbconvert_exporter": "python",
   "pygments_lexer": "ipython3",
   "version": "3.10.11"
  },
  "orig_nbformat": 4
 },
 "nbformat": 4,
 "nbformat_minor": 2
}
