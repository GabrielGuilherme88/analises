{
 "cells": [
  {
   "cell_type": "code",
   "execution_count": 2,
   "metadata": {},
   "outputs": [],
   "source": [
    "#@title Bibliotecas padrões\n",
    "import pandas as pd\n",
    "import pandas.io.sql as sqlio\n",
    "import sys\n",
    "import psycopg2\n",
    "from ydata_profiling import ProfileReport\n",
    "import numpy as np\n",
    "from botocore import UNSIGNED\n",
    "from botocore.config import Config\n",
    "from urllib.parse import quote_plus\n",
    "from pyathena import connect\n",
    "import boto3\n",
    "import boto3.session\n",
    "from botocore import exceptions\n",
    "import seaborn as sns\n",
    "import plotly.express as px\n",
    "\n",
    "#Carregando as bibliotecas necessárias para a análise estatística\n",
    "import pandas as pd\n",
    "import numpy as np\n",
    "import seaborn as sns\n",
    "%matplotlib inline\n",
    "import matplotlib.pyplot as plt\n",
    "plt.rcParams['figure.figsize'] = (8, 8)\n",
    "import statsmodels.api as sm\n",
    "import statsmodels.tsa as tsa\n",
    "from statsmodels.tsa.stattools import adfuller\n",
    "from statsmodels.graphics.tsaplots import plot_acf, plot_pacf\n",
    "import pmdarima as pm\n",
    "from statsmodels.tsa.arima_model import ARIMA\n",
    "from statsmodels.tsa.seasonal import seasonal_decompose\n",
    "from statsmodels.tsa.arima_process import arma_generate_sample"
   ]
  },
  {
   "cell_type": "code",
   "execution_count": 3,
   "metadata": {},
   "outputs": [],
   "source": [
    "#pip install pyspark"
   ]
  },
  {
   "cell_type": "code",
   "execution_count": 4,
   "metadata": {},
   "outputs": [],
   "source": [
    "import schedule\n",
    "import time\n",
    "from exchangelib import Credentials, Account, DELEGATE"
   ]
  },
  {
   "cell_type": "code",
   "execution_count": null,
   "metadata": {},
   "outputs": [],
   "source": [
    "from exchangelib import Credentials, Account\n",
    "\n",
    "credentials = Credentials('sala.teste1@amorsaude.com', 'Amor@100')\n",
    "account = Account('sala.teste01@amorsaude.com', credentials=credentials, autodiscover=True)\n",
    "\n",
    "for item in account.inbox.all().order_by('-datetime_received')[:100]:\n",
    "    print(item.subject, item.sender, item.datetime_received)"
   ]
  },
  {
   "cell_type": "code",
   "execution_count": null,
   "metadata": {},
   "outputs": [],
   "source": [
    "import win32com.client"
   ]
  },
  {
   "cell_type": "code",
   "execution_count": 27,
   "metadata": {},
   "outputs": [
    {
     "ename": "ModuleNotFoundError",
     "evalue": "No module named 'win32com'",
     "output_type": "error",
     "traceback": [
      "\u001b[0;31m---------------------------------------------------------------------------\u001b[0m",
      "\u001b[0;31mModuleNotFoundError\u001b[0m                       Traceback (most recent call last)",
      "Cell \u001b[0;32mIn[27], line 1\u001b[0m\n\u001b[0;32m----> 1\u001b[0m \u001b[39mimport\u001b[39;00m \u001b[39mwin32com\u001b[39;00m\u001b[39m.\u001b[39;00m\u001b[39mclient\u001b[39;00m  \u001b[39m# for outlook\u001b[39;00m\n\u001b[1;32m      2\u001b[0m \u001b[39mimport\u001b[39;00m \u001b[39mdatetime\u001b[39;00m\n\u001b[1;32m      4\u001b[0m \u001b[39m\"\"\"This code reads shared calendars.\"\"\"\u001b[39;00m\n",
      "\u001b[0;31mModuleNotFoundError\u001b[0m: No module named 'win32com'"
     ]
    }
   ],
   "source": [
    "import win32com.client  # for outlook\n",
    "import datetime\n",
    "\n",
    "\"\"\"This code reads shared calendars.\"\"\"\n",
    "\n",
    "# set variables\n",
    "days = 3\n",
    "begin = datetime.date.today()\n",
    "end = begin + datetime.timedelta(days=days)\n",
    "events = []  # to write results from calendar loop\n",
    "\n",
    "# begin importing calendar\n",
    "Outlook = win32com.client.Dispatch(\"Outlook.Application\")\n",
    "ns = Outlook.GetNamespace(\"MAPI\")\n",
    "\n",
    "# turn this into a list to read more calendars\n",
    "recipient = ns.CreateRecipient(\"username\")  # cmd whoami to find this\n",
    "resolved = recipient.Resolve()  # checks for username in address book\n",
    "\n",
    "# olFolderCalendar = 9\n",
    "# appointments = ns.GetDefaultFolder(9).Items  # for personal calendar\n",
    "appointments = ns.GetSharedDefaultFolder(recipient, 9).Items\n",
    "\n",
    "# filtering criteria\n",
    "# https://learn.microsoft.com/en-us/office/vba/api/outlook.items.includerecurrences\n",
    "appointments.Sort(\"[Start]\")  # suspect problem\n",
    "appointments.IncludeRecurrences = \"True\"\n",
    "restriction = \"[Start] >= '\" + begin.strftime(\"%m/%d/%Y\") \\\n",
    "            + \"' AND [End] <= '\" + end.strftime(\"%m/%d/%Y\") + \"'\"\n",
    "\n",
    "# list of appointments\n",
    "restrictedItems = appointments.Restrict(restriction)\n",
    "\n",
    "# loop through all calendar events, and add elements to list\n",
    "count = 0\n",
    "for app in restrictedItems:\n",
    "    count += 1  # no len(range(restrictedItems)) allowed\n",
    "\n",
    "#   display values\n",
    "    print()\n",
    "    print(\"item: \" + str(count))\n",
    "    print(\"start: \\t\\t\" + str(app.Start))\n",
    "    print(\"subject: \\t\" + app.Subject)\n",
    "    print(\"end: \\t\\t\" + str(app.End))\n",
    "    print(\"recurring: \\t\" + str(app.IsRecurring))\n",
    "    print(\"status: \\t\" + str(app.MeetingStatus))\n",
    "\n",
    "    # collect values\n",
    "    app_instance = [app.Subject,\n",
    "                    app.Start,\n",
    "                    app.End,\n",
    "                    app.BusyStatus]\n",
    "    events.append(app_instance)"
   ]
  }
 ],
 "metadata": {
  "kernelspec": {
   "display_name": ".conda",
   "language": "python",
   "name": "python3"
  },
  "language_info": {
   "codemirror_mode": {
    "name": "ipython",
    "version": 3
   },
   "file_extension": ".py",
   "mimetype": "text/x-python",
   "name": "python",
   "nbconvert_exporter": "python",
   "pygments_lexer": "ipython3",
   "version": "3.1.0"
  },
  "orig_nbformat": 4
 },
 "nbformat": 4,
 "nbformat_minor": 2
}
