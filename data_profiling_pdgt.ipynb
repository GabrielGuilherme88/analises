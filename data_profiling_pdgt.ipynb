{
 "cells": [
  {
   "cell_type": "code",
   "execution_count": 3,
   "metadata": {},
   "outputs": [
    {
     "name": "stderr",
     "output_type": "stream",
     "text": [
      "/home/gabriel/anaconda3/envs/.conda/lib/python3.10/site-packages/numba/core/decorators.py:262: NumbaDeprecationWarning: \u001b[1mnumba.generated_jit is deprecated. Please see the documentation at: https://numba.readthedocs.io/en/stable/reference/deprecation.html#deprecation-of-generated-jit for more information and advice on a suitable replacement.\u001b[0m\n",
      "  warnings.warn(msg, NumbaDeprecationWarning)\n",
      "/home/gabriel/.local/lib/python3.10/site-packages/visions/backends/shared/nan_handling.py:51: NumbaDeprecationWarning: \u001b[1mThe 'nopython' keyword argument was not supplied to the 'numba.jit' decorator. The implicit default value for this argument is currently False, but it will be changed to True in Numba 0.59.0. See https://numba.readthedocs.io/en/stable/reference/deprecation.html#deprecation-of-object-mode-fall-back-behaviour-when-using-jit for details.\u001b[0m\n",
      "  def hasna(x: np.ndarray) -> bool:\n"
     ]
    }
   ],
   "source": [
    "import json\n",
    "import argparse\n",
    "import subprocess\n",
    "import boto3\n",
    "import time\n",
    "import pandas as pd\n",
    "from pyathena import connect\n",
    "import pandas.io.sql as sqlio\n",
    "import sys\n",
    "from ydata_profiling import ProfileReport\n",
    "import numpy as np\n",
    "from botocore import UNSIGNED\n",
    "from botocore.config import Config\n",
    "import boto3.session\n",
    "from botocore import exceptions\n"
   ]
  },
  {
   "cell_type": "code",
   "execution_count": 4,
   "metadata": {},
   "outputs": [],
   "source": [
    "class CustomException(Exception):\n",
    "    pass\n",
    "\n",
    "json_manifest_dbt = \"target/manifest.json\"\n",
    "athena_bucket = \"todos-athena-us-east-1\"\n",
    "athena_tmp_folder = f\"s3://{athena_bucket}/\""
   ]
  },
  {
   "cell_type": "code",
   "execution_count": 5,
   "metadata": {},
   "outputs": [],
   "source": [
    "def execute_athena_sql(query):\n",
    "    client = boto3.client('athena', region_name='us-east-1')\n",
    "    queryStart = client.start_query_execution(\n",
    "    QueryString = query,\n",
    "    ResultConfiguration = { 'OutputLocation': athena_tmp_folder})\n",
    "    queryExecution = client.get_query_execution(QueryExecutionId=queryStart['QueryExecutionId'])\n",
    "    while queryExecution['QueryExecution']['Status']['State'] in ('RUNNING', 'QUEUED'):\n",
    "        time.sleep(5)\n",
    "        queryExecution = client.get_query_execution(QueryExecutionId=queryStart['QueryExecutionId'])"
   ]
  },
  {
   "cell_type": "code",
   "execution_count": 6,
   "metadata": {},
   "outputs": [],
   "source": [
    "def execute_athena_query(query):\n",
    "    cursor = connect(s3_staging_dir=athena_tmp_folder,\n",
    "                    region_name=\"us-east-1\").cursor()\n",
    "    cursor.execute(query)\n",
    "    colls=','.join(str(f\"{e[0]}\") for e in cursor.description)\n",
    "    results=pd.DataFrame(list(cursor), columns=colls.split(\",\"))\n",
    "    return results"
   ]
  },
  {
   "cell_type": "code",
   "execution_count": 7,
   "metadata": {},
   "outputs": [],
   "source": [
    "#Query dentro da PDGT\n",
    "fl_especialidades = 'select * from pdgt_sandbox_gabrielguilherme.fl_especialidades'\n",
    "fl_fornecedores ='select * from pdgt_sandbox_gabrielguilherme.fl_fornecedores'\n",
    "fl_profissionais = 'select fp.id_profissional, fp.nm_profissional, fp.id_conselho, fp.nro_conselho, fp.cpf, fp.genero, fp.id_unidade, fp.unidade, fp.email1 , fp.email2, fp.telefone1, fp.telefone2, fp.celular1, fp.celular2, fp.dt_atualizacao, fp.dt_criacao, fp.status_cadastro from pdgt_sandbox_gabrielguilherme.fl_profissionais fp'\n",
    "fl_regionais = 'select * from pdgt_sandbox_gabrielguilherme.fl_regionais'\n",
    "fl_unidades = 'select * from pdgt_sandbox_gabrielguilherme.fl_unidades'\n",
    "fl_agendamentos = 'select a.id_agendamento, a.id_regional, a.regional, a.id_unidade, a.unidade,  a.id_paciente, a.nm_paciente, a.cpf, a.celular, a.email, a.sexo, a.estado,a.cidade ,a.bairro ,a.logradouro ,a.numero ,a.id_status ,a.nm_status ,a.id_profissional ,a.nm_profissional ,a.id_especialidade ,a.nm_especialidade ,a.id_procedimento ,a.nm_procedimento ,a.id_tipoprocedimento ,a.id_grupoprocedimento ,a.id_tabela ,a.nm_tabela ,a.valor  from pdgt_sandbox_gabrielguilherme.fl_agendamentos a limit 10'\n",
    "fl_canais = 'select * from pdgt_sandbox_gabrielguilherme.fl_canais'\n",
    "fl_indicadores = 'select * from pdgt_sandbox_gabrielguilherme.fl_indicadores limit 100000000'\n",
    "fl_pacientes = '''select * from todos_data_lake_trusted_feegow.pacientes p\n",
    "where sysdate between date('2023-01-01') and date ('2023-12-31')\n",
    "and p.sys_active = 1'''\n"
   ]
  },
  {
   "cell_type": "code",
   "execution_count": 8,
   "metadata": {},
   "outputs": [],
   "source": [
    "df = '''with stg_agendamentos as (\n",
    "select 'todos_data_lake_trusted_feegow.agendamento' as Tipo, cast(ag.\"data\" as date), count(*) as Registros, 0 as valortotal, su.id as unidade_id\n",
    "from todos_data_lake_trusted_feegow.agendamentos ag\n",
    "left join todos_data_lake_trusted_feegow.locais sl on sl.id = ag.local_id\n",
    "left join todos_data_lake_trusted_feegow.unidades su on su.id = sl.unidade_id\n",
    "group by cast(ag.\"data\" as date), su.id),\n",
    "stg_movimentacao as (\n",
    "select 'todos_data_lake_trusted_feegow.movimentacao' as Tipo, cast(ag.\"data\" as date), count(*) as Registros, 0 as valortotal, ag.unidade_id \n",
    "\tfrom todos_data_lake_trusted_feegow.movimentacao ag\n",
    "group by cast(ag.\"data\" as date), ag.unidade_id),\n",
    "stg_contas as (\n",
    "select 'todos_data_lake_trusted_feegow.contas' as Tipo ,cast(ag.data_referencia as date) as data, count(*) as Registros, 0 as valortotal, ag.unidade_id\n",
    "\tfrom todos_data_lake_trusted_feegow.contas ag\n",
    "group by cast(ag.data_referencia as date), ag.unidade_id),\n",
    "stg_propostas as (\n",
    "select 'todos_data_lake_trusted_feegow.propostas' as Tipo, cast(p.dataproposta as date) as data, count(*) as Registros, 0 as valortotal, p.unidadeid as unidade_id\n",
    "from todos_data_lake_trusted_feegow.propostas p\n",
    "group by cast(p.dataproposta as date),p.unidadeid),\n",
    "stg_memed_prescricoes as (\n",
    "select 'todos_data_lake_trusted_feegow.memed_prescricoes mp' as Tipo, cast(mp.datahora as date) as data  , count(*) as Registros, 0 as valortotal, sa.unidade_id\n",
    "from todos_data_lake_trusted_feegow.memed_prescricoes mp\n",
    "left join todos_data_lake_trusted_feegow.atendimentos sa on sa.id = mp.atendimentoid \n",
    "group by cast(mp.datahora as date), sa.unidade_id),\n",
    "stg_dc_pdf_assinados as (\n",
    "select 'todos_data_lake_trusted_feegow.dc_pdf_assinados' as Tipo, cast(pa.data_criacao as date) as data, count(*) as Registros, 0 as valortotal, ah.unidade_id \n",
    "from todos_data_lake_trusted_feegow.dc_pdf_assinados pa\n",
    "left join todos_data_lake_trusted_feegow.atendimentos ah on ah.id = pa.documento_id \n",
    "group by cast(pa.data_criacao as date), ah.unidade_id),\n",
    "stg_pacientes_pedido as (\n",
    "select 'todos_data_lake_trusted_feegow.pacientes_pedidos' as Tipo, cast(pd.\"data\"  as date) as data, count(*) as Registros, 0 as valortotal, sah.unidade_id\n",
    "from todos_data_lake_trusted_feegow.pacientes_pedidos pd\n",
    "left join todos_data_lake_trusted_feegow.atendimentos sah on sah.paciente_id  = pd.paciente_id  \n",
    "group by cast(pd.\"data\"  as date),sah.unidade_id),\n",
    "stg_pacientes_prescricoes as (\n",
    "select 'todos_data_lake_trusted_feegow.pacientes_prescricoes' as Tipo, cast(pp.\"data\" as date) as data, count(*) as Registros, 0 as valortotal, sah.unidade_id \n",
    "from todos_data_lake_trusted_feegow.pacientes_prescricoes pp\n",
    "left join todos_data_lake_trusted_feegow.atendimentos sah on sah.paciente_id = pp.paciente_id\n",
    "group by cast(pp.\"data\" as date), sah.unidade_id),\n",
    "stg_agenda_horarios_itens as (\n",
    "select 'todos_data_lake_trusted_feegow.agenda_horarios_itens' as Tipo ,cast(hi.\"data\" as date) as data, count(*) as Registros, 0 as valortotal, hi.unidade_id \n",
    "from todos_data_lake_trusted_feegow.agenda_horarios_itens hi\n",
    "group by cast(hi.\"data\" as date), hi.unidade_id),\n",
    "stg_contas_bloqueios as (\n",
    "select 'todos_data_lake_trusted_feegow.contas_bloqueios' as Tipo, cast(cb.\"data\" as date)as data , count(*) as Registros, 0 as valortotal, cb.unidade_id \n",
    "from todos_data_lake_trusted_feegow.contas_bloqueios cb\n",
    "group by cast(cb.\"data\" as date), cb.unidade_id),\n",
    "stg_atendimentos as (\n",
    "select 'todos_data_lake_trusted_feegow.atendimentos' as Tipo, cast(a.\"data\" as date) as data, count(*) as Registros, 0 as valortotal, a.unidade_id \n",
    "from todos_data_lake_trusted_feegow.atendimentos a\n",
    "group by cast(a.\"data\" as date), a.unidade_id),\n",
    "stg_agendamento_procedimentos as (\n",
    "select 'todos_data_lake_trusted_feegow.agendamento_procedimentos sap' as Tipo, cast(sap.dhup as date) as data, count(*) as Registros, 0 as valortotal, su.id as unidade_id\n",
    "from todos_data_lake_trusted_feegow.agendamento_procedimentos sap \n",
    "left join todos_data_lake_trusted_feegow.locais sl on sl.id = sap.local_id\n",
    "left join todos_data_lake_trusted_feegow.unidades su on su.id = sl.unidade_id \n",
    "group by cast(sap.dhup as date), su.id),\n",
    "stg_procedimentos as (\n",
    "select 'todos_data_lake_trusted_feegow.procedimentos' as Tipo, cast(sp.dhup as date) as data ,count(*) as Registros, 0 as valortotal, su.id as unidade_id\n",
    "from todos_data_lake_trusted_feegow.procedimentos sp\n",
    "left join todos_data_lake_trusted_feegow.agendamentos sah on sah.procedimento_id = sp.id\n",
    "left join todos_data_lake_trusted_feegow.locais sl on sl.id = sah.local_id \n",
    "left join todos_data_lake_trusted_feegow.unidades su on su.id = sl.unidade_id \n",
    "group by cast(sp.dhup as date), su.id),\n",
    "tb_consolidacao_agendamentos_hist as (\n",
    "select 'tb_consolidacao_agendamentos_hist' as Tipo, cast(ahi.dt_agendamento as date) as data, count(*) as Registro, 0 as valortotal, ahi.id_unidade as unidade_id \n",
    "from pdgt_amorsaude_operacoes.fl_agendamentos ahi\n",
    "group by cast(ahi.dt_agendamento as date), ahi.id_unidade),\n",
    "tb_consolidacao_contas_a_receber as (\n",
    "select 'tb_consolidacao_contas_a_receber_hi' as Tipo, cast(cr.datavencimento  as date) as data, count(*) as Registros, cr.valor_pago as valortotal, cr.id_unidade  as unidade_id\n",
    "from pdgt_amorsaude_financeiro.fl_contas_a_receber cr\n",
    "group by cast(cr.datavencimento as date), cr.valor_pago, cr.id_unidade), --problema em varchar dentro do contas a receber\n",
    "tb_consolidacao_receita_bruta_hist_final as (\n",
    "select 'tb_consolidacao_receita_bruta_hist_final' as Tipo, cast(tcrbhf.\"data\" as date) as data, count(*) as Registros, tcrbhf.total_recebido as valortotal, tcrbhf .id_unidade  as unidade_idc\n",
    "from pdgt_amorsaude_financeiro.fl_receita_bruta tcrbhf\n",
    "group by cast(tcrbhf.\"data\" as date),tcrbhf.total_recebido, tcrbhf .id_unidade),\n",
    "tb_consolidacao_contas_a_pagar_hist as (\n",
    "select 'tb_consolidacao_contas_a_pagar_hist' as Tipo, cast(cp.\"data\" as date) as data, count(*) as Registros, cp.valortotal as valortotal, su.id as unidade_id\n",
    "from pdgt_amorsaude_financeiro.fl_contas_a_pagar cp\n",
    "left join todos_data_lake_trusted_feegow.unidades su on su.nome_fantasia = cp.nm_unidade \n",
    "group by cast(cp.\"data\" as date), cp.valortotal, su.id),\n",
    "stg_boletos_emitidos as (\n",
    "select 'todos_data_lake_trusted_feegow.boletos_emitidos' as Tipo, cast(be.data_hora as date), count(*) as Registros, 0 as valortotal, be.unidade_id \n",
    "from todos_data_lake_trusted_feegow.boletos_emitidos be\n",
    "group by cast(be.data_hora as date), be.unidade_id),\n",
    "stg_grade_fixa as (\n",
    "select 'todos_data_lake_trusted_feegow.grade_fixa' as Tipo, cast(gf.datahora as date), count(*) as Registros, 0 as valortotal, su.id as unidade_id\n",
    "from todos_data_lake_trusted_feegow.grade_fixa gf\n",
    "left join todos_data_lake_trusted_feegow.locais sl on sl.id = gf.localid\n",
    "left join todos_data_lake_trusted_feegow.unidades su on su.id = sl.unidade_id \n",
    "group by cast(gf.datahora as date), su.id),\n",
    "stg_royalties_contas as (\n",
    "select 'todos_data_lake_trusted_feegow.grade_fixa' as Tipo, cast(rc.datareferencia as date), count(*) as Registros, 0 as valortotal, rc.unidadeid as unidade_id\n",
    "from todos_data_lake_trusted_feegow.royalties_contas rc\n",
    "group by cast(rc.datareferencia as date), rc.unidadeid),\n",
    "stg_splits as (\n",
    "select 'todos_data_lake_trusted_feegow.splits' as Tipo, cast(s.\"data\" as date), count(*) as Registros, 0 as valortotal, smh.unidade_id\n",
    "from todos_data_lake_trusted_feegow.splits s\n",
    "left join todos_data_lake_trusted_feegow.movimentacao smh on smh.id = s.movimentacao_id \n",
    "group by cast(s.\"data\" as date), smh.unidade_id),\n",
    "stg_conta_itens as (\n",
    "select 'todos_data_lake_trusted_feegow.conta_itens' as Tipo, cast(sci.data_execucao as date) as data, count(*) as Registros, 0 as valortotal, 0 as unidade_id\n",
    "from todos_data_lake_trusted_feegow.conta_itens sci\n",
    "--left join todos_data_lake_trusted_feegow.contas scc on scc.conta_id = sci.id\n",
    "group by cast(sci.data_execucao as date))\n",
    "select * from (\n",
    "select * from stg_conta_itens\n",
    "union all\n",
    "select * from stg_contas sc \n",
    "union all\n",
    "select * from stg_splits ss \n",
    "union all\n",
    "select * from stg_propostas\n",
    "union all\n",
    "select * from stg_grade_fixa\n",
    "union all\n",
    "select * from stg_grade_fixa\n",
    "union all\n",
    "select * from stg_boletos_emitidos\n",
    "union all\n",
    "select * from stg_procedimentos\n",
    "union all\n",
    "select * from stg_agendamento_procedimentos\n",
    "union all\n",
    "select * from stg_atendimentos\n",
    "union all\n",
    "select * from stg_dc_pdf_assinados\n",
    "union all\n",
    "select * from stg_pacientes_pedido\n",
    "union all\n",
    "select * from stg_pacientes_prescricoes\n",
    "union all\n",
    "select * from stg_agenda_horarios_itens\n",
    "union all\n",
    "select * from stg_contas_bloqueios\n",
    "union all\n",
    "select * from stg_memed_prescricoes\n",
    "union all\n",
    "select * from stg_agendamentos\n",
    "union all\n",
    "select * from stg_movimentacao\n",
    "union all\n",
    "select * from tb_consolidacao_agendamentos_hist\n",
    "union all\n",
    "select * from tb_consolidacao_contas_a_receber\n",
    "union all\n",
    "select * from tb_consolidacao_receita_bruta_hist_final\n",
    "union all\n",
    "select * from tb_consolidacao_contas_a_pagar_hist\n",
    "WHERE data BETWEEN date_add('day', -90, current_date) AND current_date\n",
    "and data <= current_date\n",
    "order by data desc\n",
    ")'''"
   ]
  },
  {
   "cell_type": "code",
   "execution_count": 9,
   "metadata": {},
   "outputs": [],
   "source": [
    "df = execute_athena_query(fl_pacientes)"
   ]
  },
  {
   "cell_type": "code",
   "execution_count": 10,
   "metadata": {},
   "outputs": [],
   "source": [
    "#profile = ProfileReport(df, lazy=True, dark_mode=True,  title=\"Data Profiling AmorSaúde\")\n",
    "#profile.to_notebook_iframe()"
   ]
  },
  {
   "cell_type": "code",
   "execution_count": 11,
   "metadata": {},
   "outputs": [
    {
     "name": "stdout",
     "output_type": "stream",
     "text": [
      "Requirement already satisfied: sweetviz in /home/gabriel/anaconda3/envs/.conda/lib/python3.10/site-packages (2.2.1)\n",
      "Requirement already satisfied: pandas!=1.0.0,!=1.0.1,!=1.0.2,>=0.25.3 in /home/gabriel/.local/lib/python3.10/site-packages (from sweetviz) (1.5.0)\n",
      "Requirement already satisfied: numpy>=1.16.0 in /home/gabriel/.local/lib/python3.10/site-packages (from sweetviz) (1.26.3)\n",
      "Requirement already satisfied: matplotlib>=3.1.3 in /home/gabriel/anaconda3/envs/.conda/lib/python3.10/site-packages (from sweetviz) (3.8.0)\n",
      "Requirement already satisfied: tqdm>=4.43.0 in /home/gabriel/.local/lib/python3.10/site-packages (from sweetviz) (4.66.1)\n",
      "Requirement already satisfied: scipy>=1.3.2 in /home/gabriel/anaconda3/envs/.conda/lib/python3.10/site-packages (from sweetviz) (1.10.1)\n",
      "Requirement already satisfied: jinja2>=2.11.1 in /home/gabriel/.local/lib/python3.10/site-packages (from sweetviz) (3.1.3)\n",
      "Requirement already satisfied: importlib-resources>=1.2.0 in /home/gabriel/.local/lib/python3.10/site-packages (from sweetviz) (6.1.1)\n",
      "Requirement already satisfied: MarkupSafe>=2.0 in /home/gabriel/.local/lib/python3.10/site-packages (from jinja2>=2.11.1->sweetviz) (2.0.1)\n",
      "Requirement already satisfied: contourpy>=1.0.1 in /home/gabriel/anaconda3/envs/.conda/lib/python3.10/site-packages (from matplotlib>=3.1.3->sweetviz) (1.1.0)\n",
      "Requirement already satisfied: cycler>=0.10 in /home/gabriel/anaconda3/envs/.conda/lib/python3.10/site-packages (from matplotlib>=3.1.3->sweetviz) (0.11.0)\n",
      "Requirement already satisfied: fonttools>=4.22.0 in /home/gabriel/anaconda3/envs/.conda/lib/python3.10/site-packages (from matplotlib>=3.1.3->sweetviz) (4.40.0)\n",
      "Requirement already satisfied: kiwisolver>=1.0.1 in /home/gabriel/anaconda3/envs/.conda/lib/python3.10/site-packages (from matplotlib>=3.1.3->sweetviz) (1.4.4)\n",
      "Requirement already satisfied: packaging>=20.0 in /home/gabriel/anaconda3/envs/.conda/lib/python3.10/site-packages (from matplotlib>=3.1.3->sweetviz) (23.1)\n",
      "Requirement already satisfied: pillow>=6.2.0 in /home/gabriel/.local/lib/python3.10/site-packages (from matplotlib>=3.1.3->sweetviz) (9.5.0)\n",
      "Requirement already satisfied: pyparsing>=2.3.1 in /home/gabriel/anaconda3/envs/.conda/lib/python3.10/site-packages (from matplotlib>=3.1.3->sweetviz) (3.1.0)\n",
      "Requirement already satisfied: python-dateutil>=2.7 in /home/gabriel/.local/lib/python3.10/site-packages (from matplotlib>=3.1.3->sweetviz) (2.8.2)\n",
      "Requirement already satisfied: pytz>=2020.1 in /home/gabriel/.local/lib/python3.10/site-packages (from pandas!=1.0.0,!=1.0.1,!=1.0.2,>=0.25.3->sweetviz) (2023.3)\n",
      "Requirement already satisfied: six>=1.5 in /home/gabriel/anaconda3/envs/.conda/lib/python3.10/site-packages (from python-dateutil>=2.7->matplotlib>=3.1.3->sweetviz) (1.16.0)\n",
      "Note: you may need to restart the kernel to use updated packages.\n"
     ]
    }
   ],
   "source": [
    "pip install sweetviz"
   ]
  },
  {
   "cell_type": "code",
   "execution_count": 13,
   "metadata": {},
   "outputs": [
    {
     "data": {
      "application/vnd.jupyter.widget-view+json": {
       "model_id": "c1f6eeacfffa4900b5513576ad0ba181",
       "version_major": 2,
       "version_minor": 0
      },
      "text/plain": [
       "                                             |          | [  0%]   00:00 -> (? left)"
      ]
     },
     "metadata": {},
     "output_type": "display_data"
    },
    {
     "ename": "",
     "evalue": "",
     "output_type": "error",
     "traceback": [
      "\u001b[1;31mThe Kernel crashed while executing code in the the current cell or a previous cell. Please review the code in the cell(s) to identify a possible cause of the failure. Click <a href='https://aka.ms/vscodeJupyterKernelCrash'>here</a> for more info. View Jupyter <a href='command:jupyter.viewOutput'>log</a> for further details."
     ]
    }
   ],
   "source": [
    "import sweetviz as sv\n",
    "\n",
    "report = sv.analyze(df)\n",
    "\n",
    "# Salvar o relatório em HTML\n",
    "report.show_html(\"data_profile_report.html\")"
   ]
  },
  {
   "cell_type": "code",
   "execution_count": null,
   "metadata": {},
   "outputs": [],
   "source": [
    "# Convertendo a coluna 'data' para o tipo datetime\n",
    "df['data'] = pd.to_datetime(df['data'])\n",
    "\n",
    "# Simulando uma nova query com dados a partir de uma data específica\n",
    "nova_query = pd.DataFrame({\n",
    "    'Cliente': ['D', 'E'],\n",
    "    'Valor': [250, 300],\n",
    "    'DataPagamento': ['2022-01-03', '2022-01-04']\n",
    "})\n",
    "\n",
    "# Convertendo a coluna 'data' para o tipo datetime\n",
    "nova_query['data'] = pd.to_datetime(nova_query['data'])\n",
    "\n",
    "# Data a partir da qual você deseja atualizar incrementalmente\n",
    "data_atualizacao = pd.to_datetime('today') - pd.DateOffset(1)\n",
    "\n",
    "# Filtrando os novos dados com base na condição de data\n",
    "novos_dados = nova_query[nova_query['data'] == data_atualizacao]\n",
    "\n",
    "# Atualizando incrementalmente o DataFrame existente\n",
    "df_atualizado = pd.concat([df, novos_dados], ignore_index=True)\n",
    "\n",
    "# Exibindo o DataFrame atualizado\n",
    "df_atualizado"
   ]
  },
  {
   "cell_type": "code",
   "execution_count": null,
   "metadata": {},
   "outputs": [],
   "source": []
  },
  {
   "cell_type": "code",
   "execution_count": null,
   "metadata": {},
   "outputs": [],
   "source": []
  },
  {
   "cell_type": "code",
   "execution_count": null,
   "metadata": {},
   "outputs": [],
   "source": []
  },
  {
   "cell_type": "code",
   "execution_count": null,
   "metadata": {},
   "outputs": [
    {
     "data": {
      "application/vnd.jupyter.widget-view+json": {
       "model_id": "40b4692b4f6848c8bffd20b042eb7801",
       "version_major": 2,
       "version_minor": 0
      },
      "text/plain": [
       "Export report to file:   0%|          | 0/1 [00:00<?, ?it/s]"
      ]
     },
     "metadata": {},
     "output_type": "display_data"
    }
   ],
   "source": [
    "profile.to_file(\"your_report.html\")"
   ]
  }
 ],
 "metadata": {
  "kernelspec": {
   "display_name": "jupyternotebook",
   "language": "python",
   "name": "python3"
  },
  "language_info": {
   "codemirror_mode": {
    "name": "ipython",
    "version": 3
   },
   "file_extension": ".py",
   "mimetype": "text/x-python",
   "name": "python",
   "nbconvert_exporter": "python",
   "pygments_lexer": "ipython3",
   "version": "3.1.0"
  },
  "orig_nbformat": 4
 },
 "nbformat": 4,
 "nbformat_minor": 2
}
